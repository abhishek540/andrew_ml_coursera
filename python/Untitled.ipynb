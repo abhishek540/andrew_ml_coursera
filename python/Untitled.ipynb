{
 "cells": [
  {
   "cell_type": "markdown",
   "metadata": {},
   "source": [
    "# Chapter 2: Types and Operators\n",
    "\n",
    "1. Numbers\n",
    "2. Strings\n",
    "3. Lists\n",
    "4. Dictionaries\n",
    "5. Tuples\n",
    "6. Files\n",
    "7. General Object Properties\n",
    "8. Built-in Type Gotchas"
   ]
  },
  {
   "cell_type": "markdown",
   "metadata": {},
   "source": [
    "## Exercises\n",
    "This session asks you to get your feet wet with built-in object fundamentals. As before, a few\n",
    "new ideas may pop up along the way, so be sure to flip to Appendix C when you're done (and\n",
    "even when you're not).\n",
    "\n",
    "1. The basics. Experiment interactively with the common type operations found in this chapter's\n",
    "tables. To get you started, bring up the Python interactive interpreter, type the expressions below, and try to explain what's happening in each case:\n",
    "```\n",
    "2 ** 16\n",
    "2 / 5, 2 / 5.0\n",
    "\"spam\" + \"eggs\"\n",
    "S = \"ham\"\n",
    "\"eggs \" + S\n",
    "S * 5\n",
    "S[:0]\n",
    "\"green %s and %s\" % (\"eggs\", S)\n",
    "('x',) [0]\n",
    "('x', 'y') [1]\n",
    "L = [1,2,3] + [4,5,6]\n",
    "L, L[:], L[:0], L[-2], L[-2:]\n",
    "([1,2,3] + [4,5,6]) [2:4]\n",
    "[L[2], L[3]]\n",
    "L.reverse(); L\n",
    "L.sort(); L\n",
    "L.index(4){'a':1, 'b':2} ['b']\n",
    "D = {'x':1, 'y':2, 'z':3}\n",
    "D['w'] = 0\n",
    "D['x'] + D['w']\n",
    "D[(1,2,3)] = 4\n",
    "D.keys(), D.values(), D.has_key((1,2,3))\n",
    "[[]], [\"\", [], {}, None]\n",
    "```\n"
   ]
  },
  {
   "cell_type": "code",
   "execution_count": 12,
   "metadata": {},
   "outputs": [
    {
     "data": {
      "text/plain": [
       "65536"
      ]
     },
     "execution_count": 12,
     "metadata": {},
     "output_type": "execute_result"
    }
   ],
   "source": [
    "2**16                   #power calculation 2^16"
   ]
  },
  {
   "cell_type": "code",
   "execution_count": 14,
   "metadata": {},
   "outputs": [
    {
     "data": {
      "text/plain": [
       "0.4"
      ]
     },
     "execution_count": 14,
     "metadata": {},
     "output_type": "execute_result"
    }
   ],
   "source": [
    "2/5                     #integer divided by integer gives a float "
   ]
  },
  {
   "cell_type": "code",
   "execution_count": 17,
   "metadata": {},
   "outputs": [
    {
     "data": {
      "text/plain": [
       "0.4"
      ]
     },
     "execution_count": 17,
     "metadata": {},
     "output_type": "execute_result"
    }
   ],
   "source": [
    "2/5.0                   #integer divided by float gives a float"
   ]
  },
  {
   "cell_type": "code",
   "execution_count": 19,
   "metadata": {},
   "outputs": [
    {
     "data": {
      "text/plain": [
       "'spameggs'"
      ]
     },
     "execution_count": 19,
     "metadata": {},
     "output_type": "execute_result"
    }
   ],
   "source": [
    "\"spam\"+\"eggs\"           #concatation of strings using add operator"
   ]
  },
  {
   "cell_type": "code",
   "execution_count": 20,
   "metadata": {},
   "outputs": [
    {
     "data": {
      "text/plain": [
       "'eggsham'"
      ]
     },
     "execution_count": 20,
     "metadata": {},
     "output_type": "execute_result"
    }
   ],
   "source": [
    "s= \"ham\"                #\"ham\" is stored in s variable\n",
    "\"eggs\"+s                #concatation of egg and value stored at s "
   ]
  },
  {
   "cell_type": "code",
   "execution_count": 22,
   "metadata": {},
   "outputs": [
    {
     "data": {
      "text/plain": [
       "'hamhamhamhamham'"
      ]
     },
     "execution_count": 22,
     "metadata": {},
     "output_type": "execute_result"
    }
   ],
   "source": [
    "s*5                     #\"s*5\" is eqivalent to s+s+s+s+s(5 times)"
   ]
  },
  {
   "cell_type": "code",
   "execution_count": 24,
   "metadata": {},
   "outputs": [
    {
     "data": {
      "text/plain": [
       "''"
      ]
     },
     "execution_count": 24,
     "metadata": {},
     "output_type": "execute_result"
    }
   ],
   "source": [
    "s[:0]                   #returns null value since it will trying to string slicing"
   ]
  },
  {
   "cell_type": "code",
   "execution_count": 26,
   "metadata": {},
   "outputs": [
    {
     "data": {
      "text/plain": [
       "'green eggs and ham'"
      ]
     },
     "execution_count": 26,
     "metadata": {},
     "output_type": "execute_result"
    }
   ],
   "source": [
    "\"green %s and %s\"%(\"eggs\",s)            #%s will be replaced with elements of tuple"
   ]
  },
  {
   "cell_type": "code",
   "execution_count": 28,
   "metadata": {},
   "outputs": [
    {
     "data": {
      "text/plain": [
       "('x',)"
      ]
     },
     "execution_count": 28,
     "metadata": {},
     "output_type": "execute_result"
    }
   ],
   "source": [
    "('x',)[0]                        #return 0th position element of single element tuple"
   ]
  },
  {
   "cell_type": "code",
   "execution_count": 29,
   "metadata": {},
   "outputs": [
    {
     "data": {
      "text/plain": [
       "'y'"
      ]
     },
     "execution_count": 29,
     "metadata": {},
     "output_type": "execute_result"
    }
   ],
   "source": [
    "('x','y')[1]                     #return 2nd element of the tuple"
   ]
  },
  {
   "cell_type": "code",
   "execution_count": null,
   "metadata": {},
   "outputs": [],
   "source": []
  },
  {
   "cell_type": "code",
   "execution_count": null,
   "metadata": {},
   "outputs": [],
   "source": []
  },
  {
   "cell_type": "code",
   "execution_count": null,
   "metadata": {},
   "outputs": [],
   "source": []
  },
  {
   "cell_type": "code",
   "execution_count": null,
   "metadata": {},
   "outputs": [],
   "source": []
  },
  {
   "cell_type": "code",
   "execution_count": null,
   "metadata": {},
   "outputs": [],
   "source": []
  },
  {
   "cell_type": "code",
   "execution_count": null,
   "metadata": {},
   "outputs": [],
   "source": []
  },
  {
   "cell_type": "markdown",
   "metadata": {},
   "source": [
    "2. Indexing and slicing. At the interactive prompt, define a list named L that contains four\n",
    "strings or numbers (e.g., L=[0,1,2,3]). Now, let's experiment with some boundary cases.\n",
    "\n",
    "    a. What happens when you try to index out of bounds (e.g., L[4])?\n",
    "    \n",
    "    b. What about slicing out of bounds (e.g., L[-1000:100])?\n",
    "    \n",
    "    c. Finally, how does Python handle it if you try to extract a sequence in reverse—with the\n",
    "        lower bound greater than the higher bound (e.g., L[3:1])? Hint: try assigning to this slice\n",
    "        (L[3:1] = [‘?’]) and see where the value is put. Do you think this may be the same\n",
    "        phenomenon you saw when slicing out of bounds?\n",
    "\n"
   ]
  },
  {
   "cell_type": "markdown",
   "metadata": {},
   "source": [
    "3. Indexing, slicing, and del. Define another list L with four items again, and assign an empty\n",
    "list to one of its offsets (e.g., L[2] = []): what happens? Then try assigning an empty list to a\n",
    "slice (L[2:3] = []): what happens now? Recall that slice assignment deletes the slice and\n",
    "inserts the new value where it used to be. The del statement deletes offsets, keys, attributes,\n",
    "and names: try using it on your list to delete an item (e.g., del L[0]). What happens if\n",
    "you del an entire slice (del L[1:])? What happens when you assign a nonsequence to a\n",
    "slice (L[1:2] = 1)?\n"
   ]
  },
  {
   "cell_type": "markdown",
   "metadata": {},
   "source": [
    "\n",
    "4. Tuple assignment. What do you think is happening to X and Y when you type this sequence?\n",
    "We'll return to this construct in Chapter 3, but it has something to do with the tuples we've seen\n",
    "here.\n",
    "```\n",
    ">>> x = 'spam'\n",
    ">>> Y = 'eggs'\n",
    ">>> X, Y = Y, X\n",
    "```\n"
   ]
  },
  {
   "cell_type": "markdown",
   "metadata": {},
   "source": [
    "\n",
    "5. Dictionary keys. Consider the following code fragments:\n",
    "```\n",
    ">>> D = {}\n",
    ">>> D[1] = 'a'\n",
    ">>> D[2] = 'b'\n",
    "```\n",
    "\n",
    "We learned that dictionaries aren't accessed by offsets; what's going on here? Does the\n",
    "following shed any light on the subject? (Hint: strings, integers, and tuples share which\n",
    "type category?)\n",
    "\n",
    "```\n",
    ">>> D[(1, 2, 3)] = 'c'\n",
    ">>> D\n",
    "{1: 'a', 2: 'b', (1, 2, 3): 'c'}\n",
    "```\n",
    "\n"
   ]
  },
  {
   "cell_type": "markdown",
   "metadata": {},
   "source": [
    "\n",
    "\n",
    "6. Dictionary indexing. Create a dictionary named D with three entries, for keys a, b, and c.What happens if you try to index a nonexistent key d (D[‘d’])? What does Python do if you\n",
    "try to assign to a nonexistent key d (e.g., D[‘d’] = ‘spam’)? How does this compare to\n",
    "out-of-bounds assignments and references for lists? Does this sound like the rule for variable\n",
    "names?\n",
    "\n"
   ]
  },
  {
   "cell_type": "markdown",
   "metadata": {},
   "source": [
    "7. Generic operations. Run interactive tests to answer the following questions.\n",
    "a. What happens when you try to use the + operator on different/mixed types (e.g., string +\n",
    "list, list + tuple)?\n",
    "b. Does + work when one of the operands is a dictionary?\n",
    "c. Does the append method work for both lists and strings? How about the using the\n",
    "keys method on lists? (Hint: What does append assume about its subject object?)\n",
    "d. Finally, what type of object do you get back when you slice or concatenate two lists or\n",
    "two strings?\n",
    "\n"
   ]
  },
  {
   "cell_type": "markdown",
   "metadata": {},
   "source": [
    "8. String indexing. Define a string S of four characters: S = “spam”. Then type the\n",
    "following expression: S[0] [0] [0] [0] [0]. Any clues as to what's happening this\n",
    "time? (Hint: recall that a string is a collection of characters, but Python characters are\n",
    "one-character strings.) Does this indexing expression still work if you apply it to a list such as:\n",
    "[‘s’, ‘p’, ‘a’, ‘m’]? Why?\n",
    "\n"
   ]
  },
  {
   "cell_type": "markdown",
   "metadata": {},
   "source": [
    "9. Immutable types. Define a string S of 4 characters again: S = “spam”. Write an\n",
    "assignment that changes the string to “slam”, using only slicing and concate\u0002Page 69\n",
    "nation. Could you perform the same operation using just indexing and concatenation? How\n",
    "about index assignment?\n",
    "\n"
   ]
  },
  {
   "cell_type": "markdown",
   "metadata": {},
   "source": [
    "10. Nesting. Write a data-structure that represents your personal information: name (first,\n",
    "middle, last), age, job, address, email ID, and phone number. You may build the data structure\n",
    "with any combination of built-in object types you like: lists, tuples, dictionaries, strings,\n",
    "numbers. Then access the individual components of your data structures by indexing. Do some\n",
    "structures make more sense than others for this object?\n",
    "\n"
   ]
  },
  {
   "cell_type": "markdown",
   "metadata": {},
   "source": [
    "11. Files. Write a script that creates a new output file called myfile.txt and writes the string\n",
    "“Hello file world!” in it. Then write another script that opens myfile.txt, and reads\n",
    "and prints its contents. Run your two scripts from the system command line. Does the new file\n",
    "show up in the directory where you ran your scripts? What if you add a different directory path\n",
    "to the filename passed to open?\n",
    "\n"
   ]
  },
  {
   "cell_type": "markdown",
   "metadata": {},
   "source": [
    "12. The dir function revisited. Try typing the following expressions at the interactive prompt.\n",
    "Starting with Version 1.5, the dir function we met in Chapter 1 has been generalized to list all\n",
    "attributes of any Python object you're likely to be interested in. If you're using an earlier\n",
    "version than 1.5, the __methods__ scheme has the same effect.\n",
    "    ```\n",
    "[].__methods__ # 1.4 or 1.5\n",
    "dir([]) # 1.5 and later\n",
    "{}.__methods__\n",
    "dir({})\n",
    "```"
   ]
  },
  {
   "cell_type": "code",
   "execution_count": null,
   "metadata": {},
   "outputs": [],
   "source": []
  },
  {
   "cell_type": "code",
   "execution_count": null,
   "metadata": {},
   "outputs": [],
   "source": []
  },
  {
   "cell_type": "code",
   "execution_count": null,
   "metadata": {},
   "outputs": [],
   "source": []
  },
  {
   "cell_type": "code",
   "execution_count": null,
   "metadata": {},
   "outputs": [],
   "source": []
  },
  {
   "cell_type": "code",
   "execution_count": null,
   "metadata": {},
   "outputs": [],
   "source": []
  }
 ],
 "metadata": {
  "kernelspec": {
   "display_name": "Python 3",
   "language": "python",
   "name": "python3"
  },
  "language_info": {
   "codemirror_mode": {
    "name": "ipython",
    "version": 3
   },
   "file_extension": ".py",
   "mimetype": "text/x-python",
   "name": "python",
   "nbconvert_exporter": "python",
   "pygments_lexer": "ipython3",
   "version": "3.7.9"
  }
 },
 "nbformat": 4,
 "nbformat_minor": 4
}

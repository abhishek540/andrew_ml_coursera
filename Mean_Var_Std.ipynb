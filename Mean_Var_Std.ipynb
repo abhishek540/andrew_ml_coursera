{
 "cells": [
  {
   "cell_type": "markdown",
   "metadata": {},
   "source": [
    "## Free Code Camp Python Project:\n",
    "\n",
    "> By: **Abhishek Kumar, 185540**\n",
    "\n",
    "# Mean-Variance-Standard Deviation Calculator\n",
    "\n",
    "**AIM: Create a function that uses Numpy to output the mean, variance, and standard deviation of the rows, columns, and elements in a 3 x 3 matrix.**\n",
    "\n",
    "![Mean-Median-Mode](https://upload.wikimedia.org/wikipedia/commons/c/cc/Relationship_between_mean_and_median_under_different_skewness.png)\n",
    "\n"
   ]
  },
  {
   "cell_type": "markdown",
   "metadata": {},
   "source": [
    "# Import Libraries"
   ]
  },
  {
   "cell_type": "code",
   "execution_count": 1,
   "metadata": {},
   "outputs": [],
   "source": [
    "import numpy as np\n",
    "import pandas as pd\n"
   ]
  },
  {
   "cell_type": "markdown",
   "metadata": {},
   "source": [
    "#  Random Matrix"
   ]
  },
  {
   "cell_type": "code",
   "execution_count": 12,
   "metadata": {},
   "outputs": [
    {
     "name": "stdout",
     "output_type": "stream",
     "text": [
      "[[5 4 0]\n",
      " [4 6 6]\n",
      " [4 8 4]]\n"
     ]
    }
   ],
   "source": [
    "np.random.seed(22)\n",
    "array = np.random.randint(10,size=(3,3))\n",
    "print(array)"
   ]
  },
  {
   "cell_type": "markdown",
   "metadata": {},
   "source": [
    "#### 1.  Mean-Median-Mode: \n",
    "    \n",
    "1. The ***mean*** is the average of a data set.\n",
    "2. The ***mode is*** the most common number in a data set.\n",
    "3. The ***median*** is the middle of the set of numbers.\n",
    "\n",
    "\n"
   ]
  },
  {
   "cell_type": "markdown",
   "metadata": {},
   "source": [
    "# Mean_Meadian_Mode of each row and column using *numpy*"
   ]
  },
  {
   "cell_type": "code",
   "execution_count": 23,
   "metadata": {},
   "outputs": [
    {
     "name": "stdout",
     "output_type": "stream",
     "text": [
      "[4.33333333 6.         3.33333333]  --------column wise mean\n",
      "[3.         5.33333333 5.33333333]  --------row wise mean\n",
      "[4. 6. 4.]  ------column wise median\n",
      "[4. 6. 4.]  ------row wise median\n"
     ]
    }
   ],
   "source": [
    "a_mean_col = array.mean(axis=0)\n",
    "print(a_mean_col,\" --------column wise mean\")\n",
    "a_mean_row = array.mean(axis=1)\n",
    "print(a_mean_row,\" --------row wise mean\")\n",
    "a_median_col = np.median(array,axis=0)\n",
    "print(a_median_col,\" ------column wise median\")\n",
    "a_median_row = np.median(array,axis=1)\n",
    "print(a_median_row,\" ------row wise median\")"
   ]
  },
  {
   "cell_type": "markdown",
   "metadata": {},
   "source": [
    "\n",
    "\n",
    "![Vairance-StandardDeviation](https://cdn1.byjus.com/wp-content/uploads/2021/03/variance-and-sd-formula.png)\n",
    "\n",
    "\n",
    "#### 2. Variance-Standard Deviation-Coefficient of Variation:\n",
    "\n",
    "\n",
    "1. ***Variance*** is defined as the average of the squared differences from the Mean.\n",
    "2. ***standard Deviation*** is a measure of how spread out numbers are.\n",
    "3. ***Coefficient of Variation*** is a statistical measure of the dispersion of data points in a data series around the mean.\n",
    "\n",
    "![Coefficient of Variation](https://www.resourcesystemsconsulting.com/wp-content/uploads/Cv.png)\n",
    "\n"
   ]
  },
  {
   "cell_type": "markdown",
   "metadata": {},
   "source": [
    "# Variance-Standard Deviation-Coefficient of Variation using *numpy*"
   ]
  },
  {
   "cell_type": "code",
   "execution_count": 53,
   "metadata": {},
   "outputs": [
    {
     "name": "stdout",
     "output_type": "stream",
     "text": [
      "[0.47140452 1.63299316 2.49443826] ---------->std_row\n",
      "[2.1602469  0.94280904 1.88561808] ---------->std_col\n",
      "[0.22222222 2.66666667 6.22222222] ---------->var_row\n",
      "[4.66666667 0.88888889 3.55555556] ---------->var_col\n",
      "[[ 7.         -2.          2.        ]\n",
      " [-2.          1.33333333  1.33333333]\n",
      " [ 2.          1.33333333  5.33333333]] ---------->cov\n"
     ]
    }
   ],
   "source": [
    "std_row = np.std(array,axis=0)\n",
    "std_col = np.std(array,axis=1)\n",
    "var_row = np.var(array,axis=0)\n",
    "var_col = np.var(array,axis=1)\n",
    "cov = np.cov(array)\n",
    "\n",
    "print(std_row,\"---------->std_row\")\n",
    "print(std_col,\"---------->std_col\")\n",
    "print(var_row,\"---------->var_row\")\n",
    "print(var_col,\"---------->var_col\")\n",
    "print(cov,\"---------->cov\")"
   ]
  },
  {
   "cell_type": "markdown",
   "metadata": {},
   "source": [
    "# Algorithmic Approach"
   ]
  },
  {
   "cell_type": "code",
   "execution_count": 25,
   "metadata": {},
   "outputs": [
    {
     "data": {
      "text/plain": [
       "9"
      ]
     },
     "execution_count": 25,
     "metadata": {},
     "output_type": "execute_result"
    }
   ],
   "source": [
    "array.size"
   ]
  },
  {
   "cell_type": "code",
   "execution_count": 32,
   "metadata": {},
   "outputs": [
    {
     "name": "stdout",
     "output_type": "stream",
     "text": [
      "3\n"
     ]
    }
   ],
   "source": [
    "# length of row\n",
    "row = len(array[1])\n",
    "print(row)"
   ]
  },
  {
   "cell_type": "code",
   "execution_count": 33,
   "metadata": {},
   "outputs": [
    {
     "name": "stdout",
     "output_type": "stream",
     "text": [
      "3\n"
     ]
    }
   ],
   "source": [
    "#length of column\n",
    "col = len(array[0])\n",
    "print(col)"
   ]
  },
  {
   "cell_type": "code",
   "execution_count": 35,
   "metadata": {},
   "outputs": [
    {
     "name": "stdout",
     "output_type": "stream",
     "text": [
      "[9, 16, 16] ------>sum_row\n",
      "[13, 18, 10] ------>sum_col\n"
     ]
    }
   ],
   "source": [
    "sum_row=[0,0,0]\n",
    "sum_col=[0,0,0]\n",
    "#for row sum\n",
    "for i in range(3):\n",
    "    s=0\n",
    "    for j in range(3):\n",
    "        s += array[i,j]\n",
    "    sum_row[i] = s\n",
    "#for col sum\n",
    "for i in range(3):\n",
    "    s=0\n",
    "    for j in range(3):\n",
    "        s += array[j,i]\n",
    "    sum_col[i] = s\n",
    "\n",
    "print(sum_row,\"------>sum_row\")\n",
    "print(sum_col,\"------>sum_col\")"
   ]
  },
  {
   "cell_type": "code",
   "execution_count": 38,
   "metadata": {},
   "outputs": [
    {
     "name": "stdout",
     "output_type": "stream",
     "text": [
      "[3.         5.33333333 5.33333333] --------->mean_row\n",
      "[4.33333333 6.         3.33333333] --------->mean_col\n"
     ]
    }
   ],
   "source": [
    "#for mean\n",
    "mean_row=np.divide(sum_row,row)\n",
    "mean_col=np.divide(sum_col,col)\n",
    "print(mean_row,\"--------->mean_row\")\n",
    "print(mean_col,\"--------->mean_col\")"
   ]
  }
 ],
 "metadata": {
  "kernelspec": {
   "display_name": "Python 3",
   "language": "python",
   "name": "python3"
  },
  "language_info": {
   "codemirror_mode": {
    "name": "ipython",
    "version": 3
   },
   "file_extension": ".py",
   "mimetype": "text/x-python",
   "name": "python",
   "nbconvert_exporter": "python",
   "pygments_lexer": "ipython3",
   "version": "3.7.9"
  }
 },
 "nbformat": 4,
 "nbformat_minor": 4
}
